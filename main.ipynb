{
 "cells": [
  {
   "cell_type": "code",
   "execution_count": 8,
   "metadata": {},
   "outputs": [
    {
     "data": {
      "text/html": [
       "<style>div.output_scroll { height: 44em; }</style>"
      ],
      "text/plain": [
       "<IPython.core.display.HTML object>"
      ]
     },
     "metadata": {},
     "output_type": "display_data"
    }
   ],
   "source": [
    "import pandas as pd\n",
    "import sqlite3\n",
    "import math\n",
    "import datetime \n",
    "import numpy as np\n",
    "import matplotlib.pyplot as plt\n",
    "plt.style.use('fivethirtyeight')\n",
    "\n",
    "from IPython.core.display import display, HTML\n",
    "display(HTML(\"<style>div.output_scroll { height: 44em; }</style>\"))"
   ]
  },
  {
   "cell_type": "code",
   "execution_count": 9,
   "metadata": {},
   "outputs": [],
   "source": [
    "conn = sqlite3.connect('database.db')"
   ]
  },
  {
   "cell_type": "code",
   "execution_count": 10,
   "metadata": {},
   "outputs": [],
   "source": [
    "c = conn.cursor()"
   ]
  },
  {
   "cell_type": "markdown",
   "metadata": {},
   "source": [
    "## DESAIN DATABASE DATAWAREHOUSE"
   ]
  },
  {
   "cell_type": "markdown",
   "metadata": {},
   "source": [
    "![](desaindatabase.png)"
   ]
  },
  {
   "cell_type": "code",
   "execution_count": 11,
   "metadata": {},
   "outputs": [
    {
     "data": {
      "text/plain": [
       "<sqlite3.Cursor at 0x240448f7c00>"
      ]
     },
     "execution_count": 11,
     "metadata": {},
     "output_type": "execute_result"
    }
   ],
   "source": [
    "c.executescript('drop table if exists Barang')\n",
    "c.executescript('drop table if exists Pembelian')\n",
    "c.executescript('drop table if exists Penjualan')\n",
    "c.executescript('drop table if exists LabaRugi')\n",
    "c.execute(\"CREATE TABLE IF NOT EXISTS 'Barang' ('id' INT, 'nama_barang' VARCHAR(255) NULL, PRIMARY KEY ('id'))\")\n",
    "c.execute(\"CREATE TABLE IF NOT EXISTS 'Pembelian' ('id' INT, 'qty_beli' INT NULL, 'harga_beli' FLOAT NULL, 'Barang_id' INT NOT NULL, PRIMARY KEY ('id'), FOREIGN KEY ('Barang_id') REFERENCES 'Barang' ('id') ON DELETE NO ACTION ON UPDATE NO ACTION)\")\n",
    "c.execute(\"CREATE TABLE IF NOT EXISTS 'Penjualan' ('id' INT, 'tanggal_jual' DATE NULL, 'qty_jual' INT NULL, 'harga_jual' FLOAT NULL, 'Pembelian_id' INT NOT NULL, PRIMARY KEY ('id'), FOREIGN KEY ('Pembelian_id') REFERENCES 'Pembelian' ('id') ON DELETE NO ACTION ON UPDATE NO ACTION)\")\n",
    "c.execute(\"CREATE TABLE IF NOT EXISTS 'LabaRugi' ('id' INT, 'total_pembelian' FLOAT NULL, 'total_penjualan' FLOAT NULL, 'Pembelian_id' INT NOT NULL, 'Penjualan_id' INT NOT NULL, PRIMARY KEY ('id'), FOREIGN KEY ('Pembelian_id') REFERENCES 'Pembelian' ('id') ON DELETE NO ACTION ON UPDATE NO ACTION, FOREIGN KEY ('Penjualan_id') REFERENCES 'Penjualan' ('id') ON DELETE NO ACTION ON UPDATE NO ACTION)\")"
   ]
  },
  {
   "cell_type": "code",
   "execution_count": 12,
   "metadata": {},
   "outputs": [
    {
     "data": {
      "text/html": [
       "<div>\n",
       "<style scoped>\n",
       "    .dataframe tbody tr th:only-of-type {\n",
       "        vertical-align: middle;\n",
       "    }\n",
       "\n",
       "    .dataframe tbody tr th {\n",
       "        vertical-align: top;\n",
       "    }\n",
       "\n",
       "    .dataframe thead th {\n",
       "        text-align: right;\n",
       "    }\n",
       "</style>\n",
       "<table border=\"1\" class=\"dataframe\">\n",
       "  <thead>\n",
       "    <tr style=\"text-align: right;\">\n",
       "      <th></th>\n",
       "      <th>Nota</th>\n",
       "      <th>Barang</th>\n",
       "      <th>Harga Pembelian</th>\n",
       "      <th>QTY Pembelian</th>\n",
       "      <th>Harga Jual</th>\n",
       "      <th>Tanggal Penjualan</th>\n",
       "      <th>QTY penjualan</th>\n",
       "      <th>Pembelian Total</th>\n",
       "      <th>Penjualan Total</th>\n",
       "      <th>Laba / Rugi</th>\n",
       "    </tr>\n",
       "  </thead>\n",
       "  <tbody>\n",
       "    <tr>\n",
       "      <th>0</th>\n",
       "      <td>1</td>\n",
       "      <td>JAKET</td>\n",
       "      <td>245000</td>\n",
       "      <td>100</td>\n",
       "      <td>250000</td>\n",
       "      <td>01/01/2021</td>\n",
       "      <td>50</td>\n",
       "      <td>24500000</td>\n",
       "      <td>12500000</td>\n",
       "      <td>500000</td>\n",
       "    </tr>\n",
       "    <tr>\n",
       "      <th>1</th>\n",
       "      <td>2</td>\n",
       "      <td>KEMEJA FLANEL BENHILL</td>\n",
       "      <td>287000</td>\n",
       "      <td>100</td>\n",
       "      <td>300000</td>\n",
       "      <td>01/01/2021</td>\n",
       "      <td>90</td>\n",
       "      <td>28700000</td>\n",
       "      <td>27000000</td>\n",
       "      <td>1300000</td>\n",
       "    </tr>\n",
       "    <tr>\n",
       "      <th>2</th>\n",
       "      <td>3</td>\n",
       "      <td>CELANA CHINOS EMBA</td>\n",
       "      <td>260000</td>\n",
       "      <td>100</td>\n",
       "      <td>267000</td>\n",
       "      <td>01/01/2021</td>\n",
       "      <td>95</td>\n",
       "      <td>26000000</td>\n",
       "      <td>25365000</td>\n",
       "      <td>700000</td>\n",
       "    </tr>\n",
       "    <tr>\n",
       "      <th>3</th>\n",
       "      <td>4</td>\n",
       "      <td>KAOS  3SECOND</td>\n",
       "      <td>145000</td>\n",
       "      <td>100</td>\n",
       "      <td>150000</td>\n",
       "      <td>01/01/2021</td>\n",
       "      <td>80</td>\n",
       "      <td>14500000</td>\n",
       "      <td>12000000</td>\n",
       "      <td>500000</td>\n",
       "    </tr>\n",
       "    <tr>\n",
       "      <th>4</th>\n",
       "      <td>5</td>\n",
       "      <td>CELANA PENDEK NEVADA KNIT BASIC</td>\n",
       "      <td>190000</td>\n",
       "      <td>100</td>\n",
       "      <td>199000</td>\n",
       "      <td>01/01/2021</td>\n",
       "      <td>78</td>\n",
       "      <td>19000000</td>\n",
       "      <td>15522000</td>\n",
       "      <td>900000</td>\n",
       "    </tr>\n",
       "    <tr>\n",
       "      <th>...</th>\n",
       "      <td>...</td>\n",
       "      <td>...</td>\n",
       "      <td>...</td>\n",
       "      <td>...</td>\n",
       "      <td>...</td>\n",
       "      <td>...</td>\n",
       "      <td>...</td>\n",
       "      <td>...</td>\n",
       "      <td>...</td>\n",
       "      <td>...</td>\n",
       "    </tr>\n",
       "    <tr>\n",
       "      <th>58</th>\n",
       "      <td>59</td>\n",
       "      <td>ST.YVES LONG SLEEVE DRESS</td>\n",
       "      <td>118000</td>\n",
       "      <td>90</td>\n",
       "      <td>124900</td>\n",
       "      <td>01/01/2021</td>\n",
       "      <td>56</td>\n",
       "      <td>11241000</td>\n",
       "      <td>6994400</td>\n",
       "      <td>621000</td>\n",
       "    </tr>\n",
       "    <tr>\n",
       "      <th>59</th>\n",
       "      <td>60</td>\n",
       "      <td>ST.YVES PLAIN PANTS RAYON</td>\n",
       "      <td>65000</td>\n",
       "      <td>90</td>\n",
       "      <td>70000</td>\n",
       "      <td>01/01/2021</td>\n",
       "      <td>34</td>\n",
       "      <td>6300000</td>\n",
       "      <td>2380000</td>\n",
       "      <td>450000</td>\n",
       "    </tr>\n",
       "    <tr>\n",
       "      <th>60</th>\n",
       "      <td>61</td>\n",
       "      <td>ST.YVES DRESS PRINT LEAF</td>\n",
       "      <td>140000</td>\n",
       "      <td>90</td>\n",
       "      <td>149900</td>\n",
       "      <td>01/01/2021</td>\n",
       "      <td>56</td>\n",
       "      <td>13491000</td>\n",
       "      <td>8394400</td>\n",
       "      <td>891000</td>\n",
       "    </tr>\n",
       "    <tr>\n",
       "      <th>61</th>\n",
       "      <td>62</td>\n",
       "      <td>TULIP SIMPLE SOFT GIRLS PANTY</td>\n",
       "      <td>59000</td>\n",
       "      <td>90</td>\n",
       "      <td>64000</td>\n",
       "      <td>01/01/2021</td>\n",
       "      <td>77</td>\n",
       "      <td>5760000</td>\n",
       "      <td>4928000</td>\n",
       "      <td>450000</td>\n",
       "    </tr>\n",
       "    <tr>\n",
       "      <th>62</th>\n",
       "      <td>63</td>\n",
       "      <td>C2 LISCIO BASIC T-SHIRT TOPS</td>\n",
       "      <td>151000</td>\n",
       "      <td>90</td>\n",
       "      <td>159999</td>\n",
       "      <td>01/01/2021</td>\n",
       "      <td>34</td>\n",
       "      <td>14399910</td>\n",
       "      <td>5439966</td>\n",
       "      <td>809910</td>\n",
       "    </tr>\n",
       "  </tbody>\n",
       "</table>\n",
       "<p>63 rows × 10 columns</p>\n",
       "</div>"
      ],
      "text/plain": [
       "    Nota                           Barang  Harga Pembelian  QTY Pembelian  \\\n",
       "0      1                            JAKET           245000            100   \n",
       "1      2            KEMEJA FLANEL BENHILL           287000            100   \n",
       "2      3               CELANA CHINOS EMBA           260000            100   \n",
       "3      4                    KAOS  3SECOND           145000            100   \n",
       "4      5  CELANA PENDEK NEVADA KNIT BASIC           190000            100   \n",
       "..   ...                              ...              ...            ...   \n",
       "58    59        ST.YVES LONG SLEEVE DRESS           118000             90   \n",
       "59    60        ST.YVES PLAIN PANTS RAYON            65000             90   \n",
       "60    61         ST.YVES DRESS PRINT LEAF           140000             90   \n",
       "61    62    TULIP SIMPLE SOFT GIRLS PANTY            59000             90   \n",
       "62    63     C2 LISCIO BASIC T-SHIRT TOPS           151000             90   \n",
       "\n",
       "    Harga Jual Tanggal Penjualan  QTY penjualan  Pembelian Total   \\\n",
       "0       250000        01/01/2021             50          24500000   \n",
       "1       300000        01/01/2021             90          28700000   \n",
       "2       267000        01/01/2021             95          26000000   \n",
       "3       150000        01/01/2021             80          14500000   \n",
       "4       199000        01/01/2021             78          19000000   \n",
       "..         ...               ...            ...               ...   \n",
       "58      124900        01/01/2021             56          11241000   \n",
       "59       70000        01/01/2021             34           6300000   \n",
       "60      149900        01/01/2021             56          13491000   \n",
       "61       64000        01/01/2021             77           5760000   \n",
       "62      159999        01/01/2021             34          14399910   \n",
       "\n",
       "    Penjualan Total  Laba / Rugi  \n",
       "0          12500000       500000  \n",
       "1          27000000      1300000  \n",
       "2          25365000       700000  \n",
       "3          12000000       500000  \n",
       "4          15522000       900000  \n",
       "..              ...          ...  \n",
       "58          6994400       621000  \n",
       "59          2380000       450000  \n",
       "60          8394400       891000  \n",
       "61          4928000       450000  \n",
       "62          5439966       809910  \n",
       "\n",
       "[63 rows x 10 columns]"
      ]
     },
     "execution_count": 12,
     "metadata": {},
     "output_type": "execute_result"
    }
   ],
   "source": [
    "df = pd.read_csv(\"DATA SET LABA RUGI.csv\")\n",
    "df"
   ]
  },
  {
   "cell_type": "code",
   "execution_count": 13,
   "metadata": {},
   "outputs": [],
   "source": [
    "barang = []\n",
    "pembelian = []\n",
    "for i,j in df.iterrows():\n",
    "    if j[1] not in barang:\n",
    "        barang.append(j[1])\n",
    "        \n",
    "    k = -1\n",
    "    for index, value in enumerate(barang):\n",
    "        if value == j[1]:\n",
    "            k = index+1\n",
    "            break\n",
    "    \n",
    "    if [j[2],j[3], k] not in pembelian:\n",
    "        pembelian.append([j[2],j[3], k])"
   ]
  },
  {
   "cell_type": "code",
   "execution_count": 14,
   "metadata": {},
   "outputs": [],
   "source": [
    "c.execute(\"DELETE FROM BARANG\")\n",
    "for index, i in enumerate(barang):\n",
    "    c.execute(\"INSERT INTO BARANG VALUES(\" + str(index+1) + \", '\" + str(i) + \"')\")\n",
    "\n",
    "c.execute(\"DELETE FROM PEMBELIAN\")\n",
    "for index, i in enumerate(pembelian):\n",
    "    c.execute(\"INSERT INTO PEMBELIAN VALUES(\" + str(index+1) + \", '\" + str(i[0]) + \"','\" + str(i[1]) +\"',\" + str(i[2]) + \")\")\n",
    "    \n",
    "conn.commit()"
   ]
  },
  {
   "cell_type": "code",
   "execution_count": 15,
   "metadata": {},
   "outputs": [
    {
     "name": "stdout",
     "output_type": "stream",
     "text": [
      "============================BARANG============================\n",
      "[(1, 'JAKET'), (2, 'KEMEJA FLANEL BENHILL'), (3, 'CELANA CHINOS EMBA'), (4, 'KAOS  3SECOND'), (5, 'CELANA PENDEK NEVADA KNIT BASIC'), (6, 'COLE SLIP ON'), (7, 'KEMEJA NEVADA MEDIUM CHECKS'), (8, 'KEMEJA NEVADA LONG SLEEVE'), (9, 'DASTER NEVADA LENGAN PENDEK HAFLEY CAT'), (10, 'TATUIS MUKENA LAYYANAH KHANSA'), (11, 'ANNISA ROK FRONT DART'), (12, 'NEVADA SANDALS EVAN JEPIT'), (13, 'PAKALOLO FLIP FLOP SANDALS'), (14, 'OVS SNEAKERS SPORT NET'), (15, 'MARVEL SPIDERMAN FLIP FLOPS'), (16, 'KAOS KAKI MARVEL SIDERMAN'), (17, 'TRISET FLAT SANDAL THONG'), (18, 'FILA SEPATU OLAHRAGA LENNON'), (19, 'WATCHOUT SEPATU FORMAL KLASIK'), (20, 'MAYBELLINE LIQUID LIPSTICK'), (21, 'WARDAH EYESHADOW A'), (22, 'OVS HOODIE FULL ZIPPER'), (23, 'PHENOMENAL T-SHIRT CHAIN'), (24, 'CONNEXION CELANA FORMAL ANKLE'), (25, 'NEVADA SWATSHIRT LOVE KNIT'), (26, 'ST. YVES BALLERINAS BUCKLE'), (27, 'NEVADA FLAT BALLERINA'), (28, 'NEVADA SNEAKERS WOMEN'), (29, 'LITTLE M T-SHIRT BASIC BEST BUY BUILDER'), (30, 'NEVADA JOGGER BT STRIPE TAPE 1'), (31, 'KAOS KAKI MARVEL SPIDERMAN BADGE '), (32, 'PIPINIKO T-SHIRT FULLPRINT BUNNY'), (33, 'LITTLE M JAKET PRINT CUTE GIRLS'), (34, 'EMINA AQUA INFUSED SLEEPING MASK'), (35, 'BODY MIST INDIAN SUMMER 10 ML'), (36, 'MAYBELLINE CONCEALER SUPERSTAY'), (37, 'MAKE OVER MICELLAR WATER 185 ML'), (38, 'C-DEFENSE DD CREAM'), (39, 'C-DEFENSE SERUM 17 ML'), (40, 'WARDAH EYEXPERT EYEBROW KIT 3 GR'), (41, 'EMINA MAGIC POTION'), (42, 'EMINA AGENT OF BROW BROWN 1.2 GR'), (43, 'SILKYGIRL BLOOM N BLUSH 02'), (44, 'JIM JOKER OFFICIAL JERUK 2B'), (45, 'JIM JOKER OFFICIAL PLUTO 02'), (46, 'JIM JOKER SHOES OFFICIAL PURE'), (47, 'ADIDAS CF RACER TR'), (48, 'COLE CELANA PENDEK'), (49, 'NEVADA JUMPER HOODIE'), (50, 'COLE SLEEVELESS COMFORT SINGLET'), (51, 'CARDINAL JEANS SHORT SLEEVE KEMEJA KOKO'), (52, 'COLE BOXER 2 IN 1'), (53, 'CROCODILE CROP TOP T-SHIRT PRIA'), (54, 'WALRUS KAOS POLO PRIA MOTIF GARIS'), (55, 'COLE ROUND NECK BASIC TOP'), (56, 'T ZONE RAGLAN BASIC 3/4'), (57, 'ANNISA HIJAB PRINT ROSE'), (58, 'ANNISA HIJAB PRINT LEAF'), (59, 'ST.YVES LONG SLEEVE DRESS'), (60, 'ST.YVES PLAIN PANTS RAYON'), (61, 'ST.YVES DRESS PRINT LEAF'), (62, 'TULIP SIMPLE SOFT GIRLS PANTY'), (63, 'C2 LISCIO BASIC T-SHIRT TOPS')]\n",
      "==============================================================\n",
      "============================PEMBELIAN============================\n",
      "[(1, 245000, 100.0, 1), (2, 287000, 100.0, 2), (3, 260000, 100.0, 3), (4, 145000, 100.0, 4), (5, 190000, 100.0, 5), (6, 290000, 100.0, 6), (7, 180000, 100.0, 7), (8, 205000, 100.0, 8), (9, 134000, 100.0, 9), (10, 395000, 90.0, 10), (11, 225000, 90.0, 11), (12, 264000, 90.0, 12), (13, 194000, 90.0, 13), (14, 309000, 90.0, 14), (15, 198000, 90.0, 15), (16, 50000, 90.0, 16), (17, 210000, 90.0, 17), (18, 313000, 90.0, 18), (19, 394000, 90.0, 19), (20, 70000, 90.0, 20), (21, 26000, 90.0, 21), (22, 110000, 115.0, 22), (23, 140000, 115.0, 23), (24, 143000, 115.0, 24), (25, 80000, 115.0, 25), (26, 135000, 115.0, 26), (27, 114000, 115.0, 27), (28, 220000, 115.0, 28), (29, 28000, 115.0, 29), (30, 90000, 115.0, 30), (31, 5000, 115.0, 31), (32, 18000, 115.0, 32), (33, 62000, 115.0, 33), (34, 27000, 115.0, 34), (35, 10000, 115.0, 35), (36, 189000, 115.0, 36), (37, 55000, 115.0, 37), (38, 18000, 115.0, 38), (39, 56000, 90.0, 39), (40, 48000, 90.0, 40), (41, 34000, 90.0, 41), (42, 19000, 90.0, 42), (43, 50000, 90.0, 43), (44, 357000, 90.0, 44), (45, 290000, 90.0, 45), (46, 523000, 90.0, 46), (47, 390000, 90.0, 47), (48, 150000, 90.0, 48), (49, 140000, 90.0, 49), (50, 40000, 90.0, 50), (51, 160000, 90.0, 51), (52, 90000, 90.0, 52), (53, 44000, 90.0, 53), (54, 94000, 90.0, 54), (55, 50000, 90.0, 55), (56, 75000, 90.0, 56), (57, 85000, 90.0, 57), (58, 85000, 90.0, 58), (59, 118000, 90.0, 59), (60, 65000, 90.0, 60), (61, 140000, 90.0, 61), (62, 59000, 90.0, 62), (63, 151000, 90.0, 63)]\n",
      "=================================================================\n"
     ]
    }
   ],
   "source": [
    "c.execute('''SELECT * FROM BARANG''')\n",
    "\n",
    "BARANG = []\n",
    "for row in c.fetchall():\n",
    "    BARANG.append(row)\n",
    "print(\"============================BARANG============================\")\n",
    "print(BARANG)\n",
    "print(\"==============================================================\")\n",
    "\n",
    "c.execute('''SELECT * FROM PEMBELIAN''')\n",
    "\n",
    "PEMBELIAN = []\n",
    "for row in c.fetchall():\n",
    "    PEMBELIAN.append(row)\n",
    "print(\"============================PEMBELIAN============================\")\n",
    "print(PEMBELIAN)\n",
    "print(\"=================================================================\")"
   ]
  }
 ],
 "metadata": {
  "kernelspec": {
   "display_name": "Python 3",
   "language": "python",
   "name": "python3"
  },
  "language_info": {
   "codemirror_mode": {
    "name": "ipython",
    "version": 3
   },
   "file_extension": ".py",
   "mimetype": "text/x-python",
   "name": "python",
   "nbconvert_exporter": "python",
   "pygments_lexer": "ipython3",
   "version": "3.8.5"
  }
 },
 "nbformat": 4,
 "nbformat_minor": 4
}
